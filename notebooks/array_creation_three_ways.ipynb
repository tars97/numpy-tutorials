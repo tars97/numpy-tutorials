{
 "cells": [
  {
   "cell_type": "markdown",
   "metadata": {},
   "source": [
    "# NumPy Array Creation: 3 Ways in 4 Minutes\n",
    "\n",
    "Numpy (*Num-Pie* or *Num-Pee* if you want to pronounce it the fun way) is a *ridiculously* useful Python library which allows for complex data processing at extremely high speeds (speeds which might be faster than if you wrote your own C-loops). It actually has an extremely elegant interface but it can be a bit scary since it might not look like code that you're used to. So let's start at the top and go over three ways to create a Numpy array in four minutes."
   ]
  },
  {
   "cell_type": "markdown",
   "metadata": {},
   "source": [
    "## \\#1: Empty Arrays\n",
    "\n",
    "This is probably the most general, catch-all way you'll want to create an array in Numpy. You just want a big buffer with enough space for however many numbers or pieces of data you want to put in. There are a few approaches to go over here. The most common is probably when you just want an array full of zeros that you can do whatever you want with later. For that, NumPy has a function called `zeros`."
   ]
  },
  {
   "cell_type": "code",
   "execution_count": 1,
   "metadata": {},
   "outputs": [
    {
     "name": "stdout",
     "output_type": "stream",
     "text": [
      "ZEROS:\n",
      "Single-dimensional:\n",
      "[0 0 0 0 0 0 0 0 0 0 0 0 0 0 0 0 0 0 0 0 0 0 0 0 0 0 0 0 0 0 0 0 0 0 0 0 0\n",
      " 0 0 0 0 0 0 0 0 0 0 0 0 0 0 0 0 0 0 0 0 0 0 0 0 0 0 0 0 0 0 0 0 0 0 0 0 0\n",
      " 0 0 0 0 0 0 0 0 0 0 0 0 0 0 0 0 0 0 0 0 0 0 0 0 0 0]\n",
      "Multi-dimensional:\n",
      "[[0. 0. 0. 0. 0. 0. 0. 0. 0. 0.]\n",
      " [0. 0. 0. 0. 0. 0. 0. 0. 0. 0.]\n",
      " [0. 0. 0. 0. 0. 0. 0. 0. 0. 0.]\n",
      " [0. 0. 0. 0. 0. 0. 0. 0. 0. 0.]\n",
      " [0. 0. 0. 0. 0. 0. 0. 0. 0. 0.]\n",
      " [0. 0. 0. 0. 0. 0. 0. 0. 0. 0.]\n",
      " [0. 0. 0. 0. 0. 0. 0. 0. 0. 0.]\n",
      " [0. 0. 0. 0. 0. 0. 0. 0. 0. 0.]\n",
      " [0. 0. 0. 0. 0. 0. 0. 0. 0. 0.]\n",
      " [0. 0. 0. 0. 0. 0. 0. 0. 0. 0.]]\n"
     ]
    }
   ],
   "source": [
    "import numpy as np\n",
    "\n",
    "zeros_array = np.zeros(100, dtype=np.int32)\n",
    "zeros_md_array = np.zeros((10, 10), dtype=np.float64)\n",
    "\n",
    "print('ZEROS:')\n",
    "print('Single-dimensional:')\n",
    "print(zeros_array)\n",
    "print('Multi-dimensional:')\n",
    "print(zeros_md_array)"
   ]
  },
  {
   "cell_type": "markdown",
   "metadata": {},
   "source": [
    "Simply provide the size of your desired array as the first argument, and provide your desired data type as a keyword argument under 'dtype'. For multi-dimensional arrays, make the size a tuple instead of an integer.\n",
    "\n",
    "If you want the array filled with ones, that's equally easy. Same exact syntax, but call `ones` instead of `zeros`.\n"
   ]
  },
  {
   "cell_type": "code",
   "execution_count": 2,
   "metadata": {},
   "outputs": [
    {
     "name": "stdout",
     "output_type": "stream",
     "text": [
      "ONES:\n",
      "Single dimensional:\n",
      "[ True  True  True  True  True  True  True  True  True  True  True  True\n",
      "  True  True  True  True  True  True  True  True  True  True  True  True\n",
      "  True  True  True  True  True  True  True  True  True  True  True  True\n",
      "  True  True  True  True  True  True  True  True  True  True  True  True\n",
      "  True  True]\n",
      "Multi-dimensional:\n",
      "[[1. 1. 1. 1. 1. 1. 1. 1. 1. 1.]\n",
      " [1. 1. 1. 1. 1. 1. 1. 1. 1. 1.]\n",
      " [1. 1. 1. 1. 1. 1. 1. 1. 1. 1.]\n",
      " [1. 1. 1. 1. 1. 1. 1. 1. 1. 1.]\n",
      " [1. 1. 1. 1. 1. 1. 1. 1. 1. 1.]\n",
      " [1. 1. 1. 1. 1. 1. 1. 1. 1. 1.]\n",
      " [1. 1. 1. 1. 1. 1. 1. 1. 1. 1.]\n",
      " [1. 1. 1. 1. 1. 1. 1. 1. 1. 1.]\n",
      " [1. 1. 1. 1. 1. 1. 1. 1. 1. 1.]\n",
      " [1. 1. 1. 1. 1. 1. 1. 1. 1. 1.]]\n"
     ]
    }
   ],
   "source": [
    "ones_array = np.ones(50, dtype=np.bool)\n",
    "ones_md_array = np.ones((10, 10), dtype=np.float32)\n",
    "\n",
    "print('ONES:')\n",
    "print('Single dimensional:')\n",
    "print(ones_array)\n",
    "print('Multi-dimensional:')\n",
    "print(ones_md_array)"
   ]
  },
  {
   "cell_type": "markdown",
   "metadata": {},
   "source": [
    "Note that if you want an array of booleans, `zeros` will make an array of `false` values, and `ones` will make an array of `true` values.\n",
    "\n",
    "The last type of empty array is for when you plan to overwrite every single value in an array, and thus don't care whether its values are initialized with ones, zeros, or any numbers at all. For that, just call `empty`. Again, same syntax as `zeros` and `ones`. Numpy is just going to ask your operating system for a section of memory and hand it back to you as an array. It will just contain whatever junk values happened to be in that particular section of memory at the time. This will be different run-over-run. So be cautious when using this method--make sure your program writes a value to every element before use, otherwise you'll end up with some very unexpected results. It may however be slightly faster than if numpy asks your operating system for a chunk of memory full of zeros, although this is mostly going to be insignificant."
   ]
  },
  {
   "cell_type": "code",
   "execution_count": 3,
   "metadata": {},
   "outputs": [
    {
     "name": "stdout",
     "output_type": "stream",
     "text": [
      "EMPTY:\n",
      "Single-dimensional:\n",
      "[ True  True  True  True  True  True False False  True  True  True  True\n",
      "  True  True False False  True  True  True  True  True  True False False\n",
      "  True  True  True  True  True  True False False  True  True  True  True\n",
      "  True  True False False  True  True  True  True  True  True False False\n",
      "  True  True]\n",
      "Multi-dimensional:\n",
      "[[1. 1. 1. 1. 1. 1. 1. 1. 1. 1.]\n",
      " [1. 1. 1. 1. 1. 1. 1. 1. 1. 1.]\n",
      " [1. 1. 1. 1. 1. 1. 1. 1. 1. 1.]\n",
      " [1. 1. 1. 1. 1. 1. 1. 1. 1. 1.]\n",
      " [1. 1. 1. 1. 1. 1. 1. 1. 1. 1.]\n",
      " [1. 1. 1. 1. 1. 1. 1. 1. 1. 1.]\n",
      " [1. 1. 1. 1. 1. 1. 1. 1. 1. 1.]\n",
      " [1. 1. 1. 1. 1. 1. 1. 1. 1. 1.]\n",
      " [1. 1. 1. 1. 1. 1. 1. 1. 1. 1.]\n",
      " [1. 1. 1. 1. 1. 1. 1. 1. 1. 1.]]\n"
     ]
    }
   ],
   "source": [
    "empty_array = np.empty(50, dtype=np.bool)\n",
    "empty_md_array = np.empty((10, 10), dtype=np.float32)\n",
    "\n",
    "print('EMPTY:')\n",
    "print('Single-dimensional:')\n",
    "print(empty_array)\n",
    "print('Multi-dimensional:')\n",
    "print(empty_md_array)"
   ]
  },
  {
   "cell_type": "markdown",
   "metadata": {},
   "source": [
    "## \\#2: Synthetic Arrays\n",
    "\n",
    "When I say \"synthetic arrays\" I just mean arrays which contain some sort of generated sequence which you can use as a starting point for your computations. The most common is probably just an array which counts 0, 1, 2... up until the end of the array. These are often used as the axis for a graph or as an index array. To make such an array in Numpy, use the `arange` function."
   ]
  },
  {
   "cell_type": "code",
   "execution_count": 4,
   "metadata": {},
   "outputs": [
    {
     "name": "stdout",
     "output_type": "stream",
     "text": [
      "ARANGE:\n",
      "One parameter:\n",
      "[0 1 2 3 4 5 6 7 8 9]\n",
      "Two parameters:\n",
      "[20 21 22 23 24 25 26 27 28 29]\n",
      "Three parameters:\n",
      "[0 2 4 6 8]\n"
     ]
    }
   ],
   "source": [
    "zero_to_ten = np.arange(10)\n",
    "twenty_to_thirty = np.arange(20, 30)\n",
    "ten_by_twos = np.arange(0, 10, 2)\n",
    "\n",
    "print('ARANGE:')\n",
    "print('One parameter:')\n",
    "print(zero_to_ten)\n",
    "print('Two parameters:')\n",
    "print(twenty_to_thirty)\n",
    "print('Three parameters:')\n",
    "print(ten_by_twos)"
   ]
  },
  {
   "cell_type": "markdown",
   "metadata": {},
   "source": [
    "If you just specify one parameter it will be assumed that you want an array which counts from zero up to that number. You can also specify a certain range of numbers by specifying the starting point as the first parameter and the stopping point as the second. Finally, you can also specify a \"step\" parameter if you want to count by twos, for example. There are plenty of other ways to create synthetic arrays in Numpy, but in the interest of time, let's move on."
   ]
  },
  {
   "cell_type": "markdown",
   "metadata": {},
   "source": [
    "## \\#3: Data arrays\n",
    "\n",
    "This last way is fairly self-explanitory. Say you have a large set of data collected from some kind of instrument or generated by scraping the web, for instance. There are lots of ways you could store this data but for the purposes of this video I'm going to assume you have it stored in a .csv file. If you have just one data type you can easily retrieve the data as a Numpy array using the function `loadtxt`. Simply provide a file name or path as the first parameter, and since .csv stands for \"comma separated values\", we'll specify that the data are separated by commas using the \"delimiter\" keyword argument. We can also specify a data type using the \"dtype\" keyword. Numpy will assume floats if you don't specify one. If your data has a header row, we'll need to tell numpy to skip it using the 'skiprows' parameter.\n",
    "\n",
    "```\n",
    "my_data.csv\n",
    "===========\n",
    "time,distance\n",
    "0,0\n",
    "1,10\n",
    "2,100\n",
    "3,1000\n",
    "4,100\n",
    "5,10\n",
    "6,0\n",
    "```"
   ]
  },
  {
   "cell_type": "code",
   "execution_count": 6,
   "metadata": {},
   "outputs": [
    {
     "name": "stdout",
     "output_type": "stream",
     "text": [
      "[[   0    0]\n",
      " [   1   10]\n",
      " [   2  100]\n",
      " [   3 1000]\n",
      " [   4  100]\n",
      " [   5   10]\n",
      " [   6    0]]\n"
     ]
    }
   ],
   "source": [
    "my_data = np.loadtxt('my_data.csv', delimiter=',', dtype=np.int32, skiprows=1)\n",
    "print(my_data)"
   ]
  },
  {
   "cell_type": "markdown",
   "metadata": {},
   "source": [
    "If your data set has multiple types, it's a tiny bit more complicated but still surprisingly simple. We'll need to specify the data type as a structured array. The easiest way to do this is by providing numpy's `dtype` function with a list of the different types in order along with custom names as tuples.\n",
    "\n",
    "```\n",
    "het_data.csv\n",
    "============\n",
    "time,distance,is_in_lead\n",
    "0,0,0\n",
    "1,6.9805,1\n",
    "2,19.7802,1\n",
    "3,25.8012,0\n",
    "```"
   ]
  },
  {
   "cell_type": "code",
   "execution_count": 7,
   "metadata": {},
   "outputs": [
    {
     "name": "stdout",
     "output_type": "stream",
     "text": [
      "[(0,  0.    , False) (1,  6.9805,  True) (2, 19.7802,  True)\n",
      " (3, 25.8012, False)]\n"
     ]
    }
   ],
   "source": [
    "column_types = np.dtype([('time', np.int32), ('distance', np.float32), ('is_in_lead', np.bool)])\n",
    "heterogeneous_data = np.loadtxt('het_data.csv', delimiter=',', dtype=column_types, skiprows=1)\n",
    "print(heterogeneous_data)"
   ]
  },
  {
   "cell_type": "markdown",
   "metadata": {},
   "source": [
    "We can then easily separate out the different columns from the data by indexing the result using the column names we provided."
   ]
  },
  {
   "cell_type": "code",
   "execution_count": 8,
   "metadata": {},
   "outputs": [
    {
     "name": "stdout",
     "output_type": "stream",
     "text": [
      "[0 1 2 3]\n"
     ]
    }
   ],
   "source": [
    "print(heterogeneous_data['time'])"
   ]
  },
  {
   "cell_type": "markdown",
   "metadata": {},
   "source": [
    "--which perfectly leads into my next Numpy video which will be all about indexing. See you then!"
   ]
  }
 ],
 "metadata": {
  "kernelspec": {
   "display_name": "Python 3",
   "language": "python",
   "name": "python3"
  },
  "language_info": {
   "codemirror_mode": {
    "name": "ipython",
    "version": 3
   },
   "file_extension": ".py",
   "mimetype": "text/x-python",
   "name": "python",
   "nbconvert_exporter": "python",
   "pygments_lexer": "ipython3",
   "version": "3.7.3"
  }
 },
 "nbformat": 4,
 "nbformat_minor": 4
}
